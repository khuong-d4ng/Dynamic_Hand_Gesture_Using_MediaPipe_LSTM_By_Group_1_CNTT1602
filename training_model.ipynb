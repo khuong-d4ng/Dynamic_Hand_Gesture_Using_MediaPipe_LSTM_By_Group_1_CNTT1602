{
 "cells": [
  {
   "cell_type": "markdown",
   "metadata": {},
   "source": [
    "# Load all the .npy files for each gesture into a single dataset"
   ]
  },
  {
   "cell_type": "code",
   "execution_count": null,
   "metadata": {},
   "outputs": [],
   "source": [
    "import numpy as np\n",
    "import os\n",
    "from tensorflow.keras.preprocessing.sequence import pad_sequences\n",
    "\n",
    "gesture_labels = {\"fist\": 0, \"swipe_left\": 1, \"wave\": 2} #Đổi thành các nhãn bạn đã quay <3\n",
    "\n",
    "base_path = \"./gesture_videos/\" #Đổi thành đường dẫn ở máy bạn <3\n",
    "X = []  \n",
    "y = []  \n",
    "\n",
    "for gesture in gesture_labels.keys():\n",
    "    gesture_path = os.path.join(base_path, gesture, \"landmarks\")\n",
    "    if os.path.exists(gesture_path):\n",
    "        for file in os.listdir(gesture_path):\n",
    "            if file.endswith(\"_landmarks.npy\"):\n",
    "                gesture_name = gesture\n",
    "                \n",
    "                # Load the landmark data\n",
    "                data = np.load(os.path.join(gesture_path, file))\n",
    "                X.append(data)  \n",
    "                y.append(gesture_labels[gesture_name]) \n",
    "\n",
    "max_length = 150 \n",
    "X = pad_sequences(X, maxlen=max_length, padding='post', dtype='float32', value=0.0)\n",
    "\n",
    "X = np.array(X) \n",
    "y = np.array(y)\n",
    "\n",
    "np.save(\"../gesture_videos/X.npy\", X) \n",
    "np.save(\"../gesture_videos/y.npy\", y)  \n",
    "\n",
    "print(\"X shape:\", X.shape) \n",
    "print(\"y shape:\", y.shape)  "
   ]
  },
  {
   "cell_type": "markdown",
   "metadata": {},
   "source": [
    "# Step 5: Train a Machine Learning Model for Gesture Detection"
   ]
  },
  {
   "cell_type": "code",
   "execution_count": null,
   "metadata": {},
   "outputs": [],
   "source": [
    "import numpy as np\n",
    "from sklearn.model_selection import train_test_split\n",
    "from tensorflow.keras.utils import to_categorical\n",
    "\n",
    "X = np.load(\"../gesture_videos/X.npy\") \n",
    "y = np.load(\"../gesture_videos/y.npy\")  \n",
    "\n",
    "num_classes = len(gesture_labels) \n",
    "\n",
    "y_encoded = to_categorical(y, num_classes)\n",
    "\n",
    "X_train, X_val, y_train, y_val = train_test_split(X, y_encoded, test_size=0.2, random_state=37)\n",
    "\n",
    "print(\"X_train shape:\", X_train.shape)  \n",
    "print(\"y_train shape:\", y_train.shape) \n",
    "print(\"X_val shape:\", X_val.shape)  \n",
    "print(\"y_val shape:\", y_val.shape)"
   ]
  },
  {
   "cell_type": "code",
   "execution_count": null,
   "metadata": {},
   "outputs": [],
   "source": [
    "import tensorflow as tf\n",
    "from tensorflow.keras.models import Sequential\n",
    "from tensorflow.keras.layers import LSTM, Dense, Dropout\n",
    "\n",
    "num_classes = len(gesture_labels) \n",
    "\n",
    "model = Sequential([\n",
    "    LSTM(64, input_shape=(150, 63), return_sequences=True),  \n",
    "    Dropout(0.2),  \n",
    "    LSTM(32), \n",
    "    Dropout(0.2),\n",
    "    Dense(16, activation='relu'),\n",
    "    Dense(num_classes, activation='softmax') \n",
    "])\n",
    "\n",
    "\n",
    "model.compile(optimizer='adam', loss='categorical_crossentropy', metrics=['accuracy'])\n",
    "\n",
    "\n",
    "model.summary()"
   ]
  },
  {
   "cell_type": "code",
   "execution_count": null,
   "metadata": {},
   "outputs": [],
   "source": [
    "history = model.fit(X_train, y_train, \n",
    "                    epochs=20,  \n",
    "                    batch_size=32, \n",
    "                    validation_data=(X_val, y_val),  \n",
    "                    verbose=1)  \n",
    "\n",
    "#Lưu em AI lại để khiển\n",
    "model.save('../gesture_videos/model.h5')"
   ]
  },
  {
   "cell_type": "code",
   "execution_count": null,
   "metadata": {},
   "outputs": [],
   "source": [
    "val_loss, val_accuracy = model.evaluate(X_val, y_val, verbose=0)\n",
    "print(f\"Validation Accuracy: {val_accuracy*100:.2f}%\")\n",
    "print(f\"Validation Loss: {val_loss:.4f}\")\n",
    "\n",
    "import matplotlib.pyplot as plt\n",
    "\n",
    "plt.figure(figsize=(12, 4))\n",
    "\n",
    "plt.subplot(1, 2, 1)\n",
    "plt.plot(history.history['accuracy'], label='Training Accuracy')\n",
    "plt.plot(history.history['val_accuracy'], label='Validation Accuracy')\n",
    "plt.title('Model Accuracy')\n",
    "plt.xlabel('Epoch')\n",
    "plt.ylabel('Accuracy')\n",
    "plt.legend()\n",
    "\n",
    "plt.subplot(1, 2, 2)\n",
    "plt.plot(history.history['loss'], label='Training Loss')\n",
    "plt.plot(history.history['val_loss'], label='Validation Loss')\n",
    "plt.title('Model Loss')\n",
    "plt.xlabel('Epoch')\n",
    "plt.ylabel('Loss')\n",
    "plt.legend()\n",
    "\n",
    "plt.tight_layout()\n",
    "plt.show()"
   ]
  }
 ],
 "metadata": {
  "kernelspec": {
   "display_name": "Python 3",
   "language": "python",
   "name": "python3"
  },
  "language_info": {
   "codemirror_mode": {
    "name": "ipython",
    "version": 3
   },
   "file_extension": ".py",
   "mimetype": "text/x-python",
   "name": "python",
   "nbconvert_exporter": "python",
   "pygments_lexer": "ipython3",
   "version": "3.12.8"
  }
 },
 "nbformat": 4,
 "nbformat_minor": 2
}
